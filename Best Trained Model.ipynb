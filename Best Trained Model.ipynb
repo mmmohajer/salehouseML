{
 "cells": [
  {
   "cell_type": "code",
   "execution_count": 1,
   "metadata": {},
   "outputs": [],
   "source": [
    "#pip install tabulate\n",
    "\n",
    "import pandas as pd\n",
    "import numpy as np\n",
    "import matplotlib.pyplot as plt\n",
    "import seaborn as sns\n",
    "import math\n",
    "from sklearn.model_selection import train_test_split\n",
    "from xgboost.sklearn import XGBRegressor\n",
    "from sklearn.metrics import mean_squared_error\n",
    "from feature_handler import FeatureHandler as FH\n",
    "import pickle\n",
    "\n",
    "pd.set_option('display.max_columns', None)"
   ]
  },
  {
   "cell_type": "code",
   "execution_count": 2,
   "metadata": {},
   "outputs": [],
   "source": [
    "def same_cat(val, groups, col):\n",
    "    for i in range(len(groups)):\n",
    "        if val in groups[i]:\n",
    "            val = f\"{col}_group{i + 1}\"\n",
    "            break\n",
    "    return val\n",
    "\n",
    "def root_mean_squared_log_error(y_valid, y_preds):\n",
    "    \"\"\"Calculate root mean squared error of log(y_true) and log(y_pred)\"\"\"\n",
    "    if len(y_preds)!=len(y_valid): return 'error_mismatch'\n",
    "    y_preds_new = [math.log(x) for x in y_preds]\n",
    "    y_valid_new = [math.log(x) for x in y_valid]\n",
    "    return mean_squared_error(y_valid_new, y_preds_new, squared=False)\n",
    "\n",
    "def outlier_removal(val, upper_band, lower_band):\n",
    "    if val >= upper_band:\n",
    "        val = upper_band\n",
    "    elif val <= lower_band:\n",
    "        val = lower_band\n",
    "    return val\n",
    "\n",
    "def outlier_finder(val, upper_band, lower_band):\n",
    "    if val >= upper_band or val <= lower_band:\n",
    "        val = 1\n",
    "    else:\n",
    "        val = 0\n",
    "    return val\n",
    "\n",
    "def outlier_handler(df, col):\n",
    "    iqr = df[col].quantile(0.75) - df[col].quantile(0.25)\n",
    "    upper_band = df[col].mean() + 3 * iqr\n",
    "    lower_band = df[col].mean() - 3 * iqr\n",
    "    df[f\"{col}_OutHandler\"] = df[col]\n",
    "    df[col] = df[col].apply(lambda val: outlier_removal(val, upper_band, lower_band))\n",
    "    df[f\"{col}_OutHandler\"] = df[f\"{col}_OutHandler\"].apply(lambda val: outlier_finder(val, upper_band, lower_band))\n",
    "    return df[col], df[f\"{col}_OutHandler\"]"
   ]
  },
  {
   "cell_type": "code",
   "execution_count": 3,
   "metadata": {},
   "outputs": [],
   "source": [
    "df = pd.read_csv(\"Data/TrainSet.csv\")\n",
    "\n",
    "df.drop([\"Id\", \"PoolQC\", \"MiscFeature\", \"Alley\", \"Fence\", \"Street\", \"Utilities\", \"LandSlope\", \"Condition2\", \n",
    "         \"RoofMatl\", \"Heating\", \"LandContour\", \"LotConfig\", \"BldgType\", \"RoofStyle\",\n",
    "         \"3SsnPorch\", \"BsmtFinSF2\", \"BsmtFinType2\", \"BsmtHalfBath\", \"ExterCond\",\n",
    "         \"MSSubClass\", \"MiscVal\", \"MoSold\", \"PoolArea\", \"YrSold\", \"1stFlrSF\", \"GarageCond\"], axis = 1, inplace = True)\n",
    "\n",
    "missing_df = FH(df).missing_info\n",
    "missing_cat = missing_df[missing_df[\"Data Type\"] == \"Object\"][\"Var Name\"]\n",
    "strategy = [\"missing\"] * len(missing_cat)\n",
    "df = FH(df).simple_cat_imputer(cols = missing_cat, strategy = strategy, rand_seed = 42)\n",
    "# df = FH(df).simple_num_imputer(cols = [\"GarageYrBlt\", \"LotFrontage\", \"MasVnrArea\"], \n",
    "#                                strategy = [\"mean\"] * 3, num_is_int = [True] * 3, rand_seed = 42)\n",
    "\n",
    "num_missed_cols = [\"GarageYrBlt\", \"LotFrontage\", \"MasVnrArea\"]\n",
    "\n",
    "for col in num_missed_cols:\n",
    "    df[col].fillna(0, inplace = True)"
   ]
  },
  {
   "cell_type": "code",
   "execution_count": 4,
   "metadata": {},
   "outputs": [],
   "source": [
    "# df = pd.read_csv(\"Data/TestSet.csv\")\n",
    "\n",
    "# df.drop([\"Id\", \"PoolQC\", \"MiscFeature\", \"Alley\", \"Fence\", \"Street\", \"Utilities\", \"LandSlope\", \"Condition2\", \n",
    "#          \"RoofMatl\", \"Heating\", \"LandContour\", \"LotConfig\", \"BldgType\", \"RoofStyle\",\n",
    "#          \"3SsnPorch\", \"BsmtFinSF2\", \"BsmtFinType2\", \"BsmtHalfBath\", \"ExterCond\",\n",
    "#          \"MSSubClass\", \"MiscVal\", \"MoSold\", \"PoolArea\", \"YrSold\", \"1stFlrSF\", \"GarageCond\"], axis = 1, inplace = True)\n",
    "\n",
    "# missing_df = FH(df).missing_info\n",
    "# missing_cat = missing_df[missing_df[\"Data Type\"] == \"Object\"][\"Var Name\"]\n",
    "# strategy = [\"missing\"] * len(missing_cat)\n",
    "# df = FH(df).simple_cat_imputer(cols = missing_cat, strategy = strategy, rand_seed = 42)\n",
    "\n",
    "# missed_num_cols = list(FH(df).missing_info[\"Var Name\"])\n",
    "\n",
    "# num_miss = len(missed_num_cols)\n",
    "\n",
    "# df = FH(df).simple_num_imputer(cols = missed_num_cols, strategy = [\"random\"] * num_miss, num_is_int = [True] * num_miss, \n",
    "#                                rand_seed = 42)"
   ]
  },
  {
   "cell_type": "code",
   "execution_count": 5,
   "metadata": {},
   "outputs": [],
   "source": [
    "ordered_cat = ['LotShape', 'ExterQual', 'BsmtQual', 'BsmtCond', 'BsmtExposure', \n",
    "               'BsmtFinType1', 'HeatingQC', 'KitchenQual', 'Functional', 'FireplaceQu', \n",
    "               'GarageFinish', 'GarageQual', 'PavedDrive', 'CentralAir']\n",
    "\n",
    "dictLotShape = dict({'Reg':4,'IR1':3, 'IR2':2, 'IR3':1})\n",
    "# dictExterCond = dict({'Ex':5,'Gd':4,'TA':3,'Fa':2,'Po':1,'Missing':0})\n",
    "dictExterQual = dict({'Ex':5,'Gd':4,'TA':3,'Fa':2,'Po':1,'Missing':0})\n",
    "dictBsmtQual = dict({'Ex':5,'Gd':4,'TA':3,'Fa':2,'Po':1,'Missing':0})\n",
    "dictBsmtCond = dict({'Ex':5,'Gd':4,'TA':3,'Fa':2,'Po':1,'Missing':0})\n",
    "dictBsmtExposure = dict({'Gd':4,'Av':3, 'Mn':2, 'No':1, 'Missing':0})\n",
    "dictBsmtFinType1 = dict({'GLQ':6, 'ALQ':5,'BLQ':4, 'Rec':3,'LwQ':2 ,'Unf':1,'Missing':0})\n",
    "# dictBsmtFinType2 = dict({'GLQ':6, 'ALQ':5,'BLQ':4, 'Rec':3,'LwQ':2 ,'Unf':1,'Missing':0})\n",
    "dictHeatingQC = dict({'Ex':5,'Gd':4,'TA':3,'Fa':2,'Po':1,'Missing':0})\n",
    "dictKitchenQual = dict({'Ex':5,'Gd':4,'TA':3,'Fa':2,'Po':1,'Missing':0})\n",
    "dictFunctional = dict({'Typ':7, 'Min1':6,'Min2':5, 'Mod':4,'Maj1':3, 'Maj2':2, 'Sev':1})\n",
    "dictFireplaceQu = dict({'Ex':5,'Gd':4,'TA':3,'Fa':2,'Po':1,'Missing':0})\n",
    "# dictGarageCond = dict({'Ex':5,'Gd':4,'TA':3,'Fa':2,'Po':1,'Missing':0})\n",
    "dictGarageFinish = dict({'Fin':3, 'RFn':2, 'Unf':1, 'Missing':0})\n",
    "dictGarageQual = dict({'Ex':5,'Gd':4,'TA':3,'Fa':2,'Po':1,'Missing':0})\n",
    "dictPavedDrive = dict({'Y':3,'P':2,'N':1})\n",
    "dictCentralAir = dict({'Y':1, 'N':0})\n",
    "\n",
    "dicts = [dictLotShape, dictExterQual, dictBsmtQual, dictBsmtCond, dictBsmtExposure,\n",
    "         dictBsmtFinType1, dictHeatingQC, dictKitchenQual, dictFunctional, dictFireplaceQu,\n",
    "         dictGarageFinish, dictGarageQual, dictPavedDrive, dictCentralAir]\n",
    "\n",
    "for i, j in zip(dicts, ordered_cat):\n",
    "    df[j] = df[j].map(i)\n",
    "    \n",
    "MSZoning_group1 = [\"FV\", \"RL\"]\n",
    "MSZoning_group2 = [\"RH\", \"RM\"]\n",
    "MSZoning_groups = [MSZoning_group1, MSZoning_group2]\n",
    "\n",
    "\n",
    "Neighborhood_group1 = [\"Blmngtn\", \"ClearCr\", \"Crawfor\", \"SawyerW\"] \n",
    "Neighborhood_group2 = [\"Blueste\", \"BrkSide\", \"Mitchel\", \"NPKVill\", \"SWISU\"]\n",
    "Neighborhood_group3 = [\"BrDale\", \"IDOTRR\", \"MeadowV\"]\n",
    "Neighborhood_group4 = [\"NoRidge\", \"Timber\", \"Veenker\"]\n",
    "Neighborhood_groups = [Neighborhood_group1, Neighborhood_group2, Neighborhood_group3, Neighborhood_group4]\n",
    "\n",
    "Condition1_group1 = [\"Artery\", \"RRAn\", \"RRNn\"]\n",
    "Condition1_group2 = [\"PosA\", \"PosN\", \"RRNe\"]\n",
    "Condition1_group3 = [\"RRAe\", \"Feedr\"]\n",
    "Condition1_groups = [Condition1_group1, Condition1_group2, Condition1_group3]\n",
    "\n",
    "HouseStyle_group1 = [\"2.5Unf\", \"2.5Fin\", \"1Story\"]\n",
    "HouseStyle_groups = [HouseStyle_group1]\n",
    "\n",
    "Exterior1st_group1 = [\"AsphShn\", \"BrkComm\", \"CBlock\"]\n",
    "Exterior1st_group2 = [\"ImStucc\", \"Stone\"]\n",
    "Exterior1st_groups = [Exterior1st_group1, Exterior1st_group2]\n",
    "\n",
    "Exterior2nd_group1 = [\"AsphShn\", \"Brk Cmn\", \"AsbShng\", \"CBlock\"]\n",
    "Exterior2nd_group2 = [\"ImStucc\", \"Stone\", \"Stucco\", \"Wd Shng\", \"Other\"]\n",
    "Exterior2nd_groups = [Exterior2nd_group1, Exterior2nd_group2]\n",
    "\n",
    "Foundation_group1 = [\"Stone\", \"BrkTil\"]\n",
    "Foundation_group2 = [\"Wood\", \"PConc\"]\n",
    "Foundation_groups = [Foundation_group1, Foundation_group2]\n",
    "\n",
    "Electrical_group1 = [\"Mix\", \"FuseP\", \"FuseF\"]\n",
    "Electrical_group2 = [\"Missing\", \"SBrkr\"]\n",
    "Electrical_groups = [Electrical_group1, Electrical_group2]\n",
    "\n",
    "GarageType_group1 = [\"2Types\", \"CarPort\", \"Missing\"]\n",
    "GarageType_groups = [GarageType_group1]\n",
    "\n",
    "SaleType_group1 = [\"CWD\", \"New\", \"Con\"]\n",
    "SaleType_group2 = [\"ConLD\", \"ConLw\"]\n",
    "SaleType_group3 = [\"ConLI\", \"WD\"]\n",
    "SaleType_groups = [SaleType_group1, SaleType_group2, SaleType_group3]\n",
    "\n",
    "SaleCondition_group1 = [\"Alloca\", \"Family\"]\n",
    "SaleCondition_groups = [SaleCondition_group1]\n",
    "\n",
    "#--------------------------------------------------------------------------------\n",
    "to_be_changed_cols = [\"MSZoning\", \"Neighborhood\", \"Condition1\", \"HouseStyle\", \n",
    "                      \"Exterior1st\", \"Exterior2nd\", \"Foundation\", \"Electrical\", \"GarageType\", \"SaleType\", \n",
    "                      \"SaleCondition\"]\n",
    "groups = [MSZoning_groups, Neighborhood_groups, Condition1_groups, \n",
    "          HouseStyle_groups, Exterior1st_groups, Exterior2nd_groups, Foundation_groups, Electrical_groups, \n",
    "          GarageType_groups, SaleType_groups, SaleCondition_groups]\n",
    "#--------------------------------------------------------------------------------\n",
    "group_numerator = 0\n",
    "for col in to_be_changed_cols:\n",
    "    df[col] = df[col].apply(lambda val: same_cat(val, groups[group_numerator], col))\n",
    "    group_numerator += 1"
   ]
  },
  {
   "cell_type": "code",
   "execution_count": 6,
   "metadata": {},
   "outputs": [],
   "source": [
    "feat_eng_df = df.copy()"
   ]
  },
  {
   "cell_type": "code",
   "execution_count": 7,
   "metadata": {},
   "outputs": [],
   "source": [
    "feat_eng_df[\"Style_info\"] = feat_eng_df[\"HouseStyle\"] + \"-\" + feat_eng_df[\"GarageType\"]\n",
    "\n",
    "imp_lst = ['HouseStyle_group1-Attchd', '2Story-Attchd', 'HouseStyle_group1-Detchd', '2Story-Detchd', '1.5Fin-Detchd',\n",
    "           '2Story-BuiltIn', '1.5Fin-Attchd', 'SLvl-Attchd']\n",
    "\n",
    "feat_eng_df[\"Style_info\"] = feat_eng_df[\"Style_info\"].apply(lambda val: val if val in imp_lst else \"Style_info_group1\")"
   ]
  },
  {
   "cell_type": "code",
   "execution_count": 8,
   "metadata": {},
   "outputs": [],
   "source": [
    "feat_eng_df[\"Sale_info\"] = feat_eng_df[\"SaleType\"] + \"-\" + feat_eng_df[\"SaleCondition\"]\n",
    "\n",
    "imp_lst = ['SaleType_group3-Normal', 'SaleType_group1-Partial', 'SaleType_group3-Abnorml']\n",
    "\n",
    "feat_eng_df[\"Sale_info\"] = feat_eng_df[\"Sale_info\"].apply(lambda val: val if val in imp_lst else \"Sale_info_group1\")"
   ]
  },
  {
   "cell_type": "code",
   "execution_count": 9,
   "metadata": {},
   "outputs": [],
   "source": [
    "feat_eng_df[\"Geography_info\"] = (feat_eng_df[\"MSZoning\"] + \"-\" + feat_eng_df[\"Neighborhood\"]) \n",
    "\n",
    "imp_lst = ['MSZoning_group1-NAmes', 'MSZoning_group1-Neighborhood_group1', 'MSZoning_group1-CollgCr', \n",
    "           'MSZoning_group2-OldTown', 'MSZoning_group1-Neighborhood_group2', 'MSZoning_group1-Neighborhood_group4',\n",
    "           'MSZoning_group1-Edwards', 'MSZoning_group1-Somerst', 'MSZoning_group1-Gilbert', 'MSZoning_group1-NridgHt', \n",
    "           'MSZoning_group1-NWAmes', 'MSZoning_group1-Sawyer', 'MSZoning_group2-Neighborhood_group3',\n",
    "           'MSZoning_group2-Neighborhood_group2', 'MSZoning_group1-StoneBr', 'MSZoning_group1-OldTown']\n",
    "\n",
    "feat_eng_df[\"Geography_info\"] = feat_eng_df[\"Geography_info\"].apply(lambda val: val if val in imp_lst \n",
    "                                                                                    else \"Geography_info_group1\")"
   ]
  },
  {
   "cell_type": "code",
   "execution_count": 10,
   "metadata": {},
   "outputs": [],
   "source": [
    "feat_eng_df[\"Exterior_info\"] = (feat_eng_df[\"Exterior1st\"] + \"-\" + feat_eng_df[\"Exterior2nd\"]) \n",
    "\n",
    "imp_lst = ['VinylSd-VinylSd', 'MetalSd-MetalSd', 'HdBoard-HdBoard', 'Wd Sdng-Wd Sdng', 'Plywood-Plywood', 'CemntBd-CmentBd',\n",
    "            'Stucco-Exterior2nd_group2', 'BrkFace-BrkFace', 'HdBoard-Plywood', 'WdShing-Exterior2nd_group2',\n",
    "            'AsbShng-Exterior2nd_group1', 'Wd Sdng-Exterior2nd_group2', 'BrkFace-Wd Sdng']\n",
    "\n",
    "feat_eng_df[\"Exterior_info\"] = feat_eng_df[\"Exterior_info\"].apply(lambda val: val if val in imp_lst else \"Exterior_info_group1\")"
   ]
  },
  {
   "cell_type": "code",
   "execution_count": 11,
   "metadata": {},
   "outputs": [],
   "source": [
    "feat_eng_df[\"Condition_info\"] = feat_eng_df[\"Condition1\"] + \"-\" + feat_eng_df[\"Electrical\"]\n",
    "\n",
    "\n",
    "imp_lst = ['Norm-Electrical_group2', 'Condition1_group3-Electrical_group2', 'Norm-FuseA', 'Condition1_group1-Electrical_group2',\n",
    "           'Condition1_group2-Electrical_group2']\n",
    "    \n",
    "feat_eng_df[\"Condition_info\"] = feat_eng_df[\"Condition_info\"].apply(lambda val: val if val in imp_lst \n",
    "                                                                                    else \"Condition_info_group1\")"
   ]
  },
  {
   "cell_type": "code",
   "execution_count": 12,
   "metadata": {},
   "outputs": [],
   "source": [
    "feat_eng_df[\"Material_info\"] = feat_eng_df[\"Foundation\"] + \"-\" + feat_eng_df[\"MasVnrType\"]\n",
    "\n",
    "\n",
    "imp_lst = ['CBlock-None', 'Foundation_group2-None', 'Foundation_group2-BrkFace', 'CBlock-BrkFace', 'Foundation_group1-None',\n",
    "           'Foundation_group2-Stone', 'CBlock-Stone', 'Slab-None', 'CBlock-BrkCmn']\n",
    "\n",
    "feat_eng_df[\"Material_info\"] = feat_eng_df[\"Material_info\"].apply(lambda val: val if val in imp_lst else \"Material_info_group1\")"
   ]
  },
  {
   "cell_type": "code",
   "execution_count": 13,
   "metadata": {},
   "outputs": [],
   "source": [
    "cat_cols = [\"HouseStyle\", \"GarageType\", \"SaleType\", \"SaleCondition\", \"MSZoning\", \"Neighborhood\", \"Exterior1st\", \"Exterior2nd\",\n",
    "            \"Condition1\", \"Electrical\", \"Foundation\", \"MasVnrType\"]\n",
    "\n",
    "feat_eng_df.drop(cat_cols, axis = 1, inplace = True)"
   ]
  },
  {
   "cell_type": "code",
   "execution_count": 14,
   "metadata": {},
   "outputs": [],
   "source": [
    "feat_eng_df[\"Bath_info\"] = 0.5 * feat_eng_df[\"HalfBath\"] + feat_eng_df[\"FullBath\"]\n",
    "feat_eng_df[\"Tot_Quality_info\"] = (4 * feat_eng_df[\"OverallQual\"] + feat_eng_df[\"ExterQual\"] + 4 * feat_eng_df[\"KitchenQual\"] - \n",
    "                                   feat_eng_df[\"LotShape\"])\n",
    "feat_eng_df[\"Kitchen_info\"] = feat_eng_df[\"KitchenAbvGr\"] * feat_eng_df[\"KitchenQual\"]\n",
    "feat_eng_df[\"BsmtFullBath\"] = np.sign(feat_eng_df[\"BsmtFullBath\"])\n",
    "feat_eng_df[\"Modernity_info\"] = feat_eng_df[\"YearRemodAdd\"] - feat_eng_df[\"YearBuilt\"]\n",
    "feat_eng_df[\"Fireplace_info\"] = feat_eng_df[\"FireplaceQu\"] * feat_eng_df[\"Fireplaces\"]\n",
    "feat_eng_df['Geometry_info'] = feat_eng_df['LotArea'] / feat_eng_df['LotFrontage']\n",
    "feat_eng_df['ValueProposition_info'] = feat_eng_df['YearBuilt'] * feat_eng_df['OverallQual']\n",
    "feat_eng_df['FinishedBasement_info'] = np.sign(feat_eng_df['BsmtFinSF1'])\n",
    "feat_eng_df['GarageValue_info'] = feat_eng_df['YearBuilt'] * feat_eng_df['GarageCars']\n",
    "feat_eng_df['MiscValue_info'] = feat_eng_df['Fireplaces'] + feat_eng_df['OverallQual']"
   ]
  },
  {
   "cell_type": "code",
   "execution_count": 15,
   "metadata": {},
   "outputs": [],
   "source": [
    "# feat_eng_df[\"EnclosedPorch\"] = feat_eng_df[\"EnclosedPorch\"].apply(lambda val: 1 if val > 0 else 0)\n",
    "# feat_eng_df[\"ScreenPorch\"]= feat_eng_df[\"ScreenPorch\"].apply(lambda val: 1 if val > 0 else 0)\n",
    "# feat_eng_df[\"Functional\"]= feat_eng_df[\"Functional\"].apply(lambda val: 1 if val == 7 else 0)"
   ]
  },
  {
   "cell_type": "code",
   "execution_count": 16,
   "metadata": {},
   "outputs": [],
   "source": [
    "# outlier_cols = [\"LotFrontage\", \"GarageArea\", \"OpenPorchSF\", \"WoodDeckSF\", \"TotalBsmtSF\", \"LotArea\", \"MasVnrArea\",\n",
    "#                   \"BsmtFinSF1\", \"GrLivArea\", \"BsmtUnfSF\", \"2ndFlrSF\"]\n",
    "\n",
    "# for col in outlier_cols:\n",
    "#     feat_eng_df[col], feat_eng_df[f\"{col}_OutHandler\"] = outlier_handler(feat_eng_df, col)"
   ]
  },
  {
   "cell_type": "code",
   "execution_count": 17,
   "metadata": {},
   "outputs": [],
   "source": [
    "feat_eng_df.drop([\"HalfBath\", \"FullBath\", \"OverallQual\", \"ExterQual\", \"LotShape\", \"KitchenAbvGr\", \"KitchenQual\", \n",
    "                  \"BsmtCond\", \"BsmtExposure\", \"YearRemodAdd\", \"YearBuilt\", \"Fireplaces\", \"FireplaceQu\", \"GarageQual\", \n",
    "                  \"BsmtFinSF1\", \"LowQualFinSF\"], \n",
    "                  axis = 1, inplace = True)\n",
    "\n",
    "# feat_eng_df.drop([\"HalfBath\", \"FullBath\", \"OverallQual\", \"ExterQual\", \"LotShape\", \"KitchenAbvGr\", \"KitchenQual\", \n",
    "#                   \"BsmtCond\", \"BsmtExposure\", \"YearRemodAdd\", \"YearBuilt\", \"Fireplaces\", \"FireplaceQu\", \"GarageQual\", \n",
    "#                   \"BsmtFinSF1\", \"LowQualFinSF\", \"HeatingQC\", \"EnclosedPorch\", \"MasVnrArea\", \"BsmtUnfSF\", \n",
    "#                   \"WoodDeckSF\", \"LotFrontage\", \"PavedDrive\", \"GarageYrBlt\", \"OverallCond\", \"BsmtFinType1\", \n",
    "#                   \"OpenPorchSF\"], \n",
    "#                   axis = 1, inplace = True)"
   ]
  },
  {
   "cell_type": "code",
   "execution_count": 18,
   "metadata": {},
   "outputs": [],
   "source": [
    "X = feat_eng_df.copy()\n",
    "\n",
    "categoric_cols = FH(X).categoric_cols\n",
    "one_hot_cols = categoric_cols\n",
    "\n",
    "for col in one_hot_cols:\n",
    "    cat_encoded_df = pd.get_dummies(X[col])\n",
    "    cat_encoded_cols = cat_encoded_df.columns\n",
    "    for new_col in cat_encoded_cols:\n",
    "        X[new_col] = cat_encoded_df[new_col]\n",
    "    X = X.drop([col], axis = 1)"
   ]
  },
  {
   "cell_type": "code",
   "execution_count": 19,
   "metadata": {},
   "outputs": [],
   "source": [
    "# X[\"LotFrontage\"] = np.log(X[\"LotFrontage\"])\n",
    "X[\"LotArea\"] = np.log(X[\"LotArea\"])\n",
    "X[\"GrLivArea\"] = np.log(X[\"GrLivArea\"])"
   ]
  },
  {
   "cell_type": "code",
   "execution_count": 20,
   "metadata": {},
   "outputs": [],
   "source": [
    "X.drop(\"SalePrice\", axis = 1, inplace = True)\n",
    "y = df[\"SalePrice\"]"
   ]
  },
  {
   "cell_type": "code",
   "execution_count": 21,
   "metadata": {},
   "outputs": [
    {
     "data": {
      "text/plain": [
       "95"
      ]
     },
     "execution_count": 21,
     "metadata": {},
     "output_type": "execute_result"
    }
   ],
   "source": [
    "len(X.columns)"
   ]
  },
  {
   "cell_type": "code",
   "execution_count": 22,
   "metadata": {},
   "outputs": [
    {
     "data": {
      "text/plain": [
       "(0.8860565082160374, 0.9994087479743873, 0.10613491742581124)"
      ]
     },
     "execution_count": 22,
     "metadata": {},
     "output_type": "execute_result"
    }
   ],
   "source": [
    "X_train, X_test, y_train, y_test = train_test_split(X, y, test_size = 0.05, random_state = 42)\n",
    "\n",
    "xgb_reg = XGBRegressor(base_score=0.5, booster='gbtree', colsample_bylevel=1,\n",
    "             colsample_bynode=1, colsample_bytree=0.7, gamma=0, gpu_id=-1,\n",
    "             importance_type='gain', interaction_constraints='',\n",
    "             learning_rate=0.015, max_delta_step=0, max_depth=6,\n",
    "             min_child_weight=0.0, monotone_constraints='()',\n",
    "             n_estimators=3000, n_jobs=0, num_parallel_tree=2, random_state=0,\n",
    "             reg_alpha=0.5, reg_lambda=1, scale_pos_weight=1, subsample=0.3,\n",
    "             tree_method='exact', validate_parameters=1, verbosity=None)\n",
    "\n",
    "xgb_reg.fit(X_train, y_train)\n",
    "y_preds = xgb_reg.predict(X_test)\n",
    "\n",
    "pickle.dump(xgb_reg, open(\"Model.pkl\", \"wb\"))\n",
    "\n",
    "model = pickle.load(open(\"Model.pkl\", \"rb\"))\n",
    "\n",
    "y_preds = model.predict(X_test)\n",
    "\n",
    "model.score(X_test, y_test), model.score(X_train, y_train), root_mean_squared_log_error(y_test, y_preds)"
   ]
  },
  {
   "cell_type": "code",
   "execution_count": 27,
   "metadata": {},
   "outputs": [
    {
     "data": {
      "text/plain": [
       "0.9993200156870617"
      ]
     },
     "execution_count": 27,
     "metadata": {},
     "output_type": "execute_result"
    }
   ],
   "source": [
    "xgb_reg = XGBRegressor(base_score=0.5, booster='gbtree', colsample_bylevel=1,\n",
    "             colsample_bynode=1, colsample_bytree=0.7, gamma=0, gpu_id=-1,\n",
    "             importance_type='gain', interaction_constraints='',\n",
    "             learning_rate=0.015, max_delta_step=0, max_depth=6,\n",
    "             min_child_weight=0.0, monotone_constraints='()',\n",
    "             n_estimators=3000, n_jobs=0, num_parallel_tree=2, random_state=0,\n",
    "             reg_alpha=0.5, reg_lambda=1, scale_pos_weight=1, subsample=0.3,\n",
    "             tree_method='exact', validate_parameters=1, verbosity=None)\n",
    "\n",
    "xgb_reg.fit(X, y)\n",
    "\n",
    "pickle.dump(xgb_reg, open(\"salehouse_model.pkl\", \"wb\"))\n",
    "\n",
    "model = pickle.load(open(\"salehouse_model.pkl\", \"rb\"))\n",
    "\n",
    "model.score(X, y)"
   ]
  },
  {
   "cell_type": "code",
   "execution_count": 24,
   "metadata": {},
   "outputs": [],
   "source": [
    "# model = pickle.load(open(\"Model.pkl\", \"rb\"))\n",
    "\n",
    "# y_preds = model.predict(X)\n",
    "\n",
    "# eval_df = pd.DataFrame({\"Predicted Values\": y_preds})\n",
    "\n",
    "# df = pd.read_csv(\"Data/TestSet.csv\")\n",
    "\n",
    "# output = pd.DataFrame({'Id': df.Id,\n",
    "#                        'SalePrice': y_preds})\n",
    "# output.to_csv('submission8.csv', index=False)\n",
    "\n",
    "# np.round(eval_df)"
   ]
  }
 ],
 "metadata": {
  "kernelspec": {
   "display_name": "Python 3",
   "language": "python",
   "name": "python3"
  },
  "language_info": {
   "codemirror_mode": {
    "name": "ipython",
    "version": 3
   },
   "file_extension": ".py",
   "mimetype": "text/x-python",
   "name": "python",
   "nbconvert_exporter": "python",
   "pygments_lexer": "ipython3",
   "version": "3.8.5"
  }
 },
 "nbformat": 4,
 "nbformat_minor": 4
}
